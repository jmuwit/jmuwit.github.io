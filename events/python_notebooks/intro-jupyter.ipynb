{
 "cells": [
  {
   "cell_type": "markdown",
   "metadata": {},
   "source": [
    "## JMU WIT workshop: Python Notebooks\n",
    "\n",
    "### Part 1: Jupyter Notebook\n",
    "*\"The Jupyter Notebook is the original web application for creating and sharing computational documents.\"*\n",
    "<a href=\"https://jupyter.org/\">jupyter.org</a>\n",
    "\n",
    "This application allows you to create and work with documents that combine code, text, data and other types of content.  It is commonly used by data scientists and others who work with data and machine learning.  I believe it is primarily used with Python, but it supports over 40 programming languages.\n",
    "\n",
    "At its simplest, a notebook consists of a series of *cells*, which may contain markdown, code, or raw data.\n",
    "\n",
    "<a href=\"https://en.wikipedia.org/wiki/Markdown\">Markdown</a> is a simple language for formatting text.  This cell is a **markdown** cell.  If you double-click in the cell, you will see the markdown *code*, and if you click the **Run** button in the toolbar above, the notebook will read the markdown and format the cell. *Try it!*\n",
    "\n",
    "A code cell contains *code* (programming language text) which can be *run* (executed) using the same **Run** button above.  The default configuration for a Jupyter notebook is using *Python* - you must set it up specially for other programming languages.\n",
    "\n",
    "The type of each cell can be selected using the dropdown menu in the toolbar.\n",
    "\n",
    "##### Acknowledgment\n",
    "    This part was written by Prof. Mona Rizvi.\n"
   ]
  },
  {
   "cell_type": "markdown",
   "metadata": {
    "tags": []
   },
   "source": [
    "### Markdown cells\n",
    "\n",
    "Double-click in this markdown cell to see the *markup*.\n",
    "\n",
    "The `##` indicates a second-level header (`#` is the largest).\n",
    "\n",
    "Surrounding text with a `*` puts it in *italics*. Surrounding text with `**` puts it in **bold**.\n",
    "\n",
    "Single backquotes around text creates code-style formatting.\n",
    "\n",
    "Add your name to this cell as a second-level header below and then run the cell:\n"
   ]
  },
  {
   "cell_type": "markdown",
   "metadata": {
    "tags": []
   },
   "source": [
    "### Code cells\n",
    "\n",
    "Each code cell can be run (executed) individually, in any order.  Any variables that are set in a cell which has been run are *remembered* for use in other cells. They can also all be run one after another, in order, at once, using the double-arrow button in the toolbar.  This button also restarts the Python *\"kernel\"*, which has the effect of having all variables and settings from cells that have been run previously being *forgotten*.\n",
    "\n",
    "If the kernel is *busy* running some code, then the circle on very right-hand side of the toolbar will be black, and no cells can be run until the kernel is *idle* again.  The square button on the toolbar will stop whatever the kernel is running and put it in the idel state.\n",
    "\n",
    "Let's try a few cells:"
   ]
  },
  {
   "cell_type": "code",
   "execution_count": 1,
   "metadata": {
    "tags": []
   },
   "outputs": [
    {
     "name": "stdout",
     "output_type": "stream",
     "text": [
      "6\n"
     ]
    }
   ],
   "source": [
    "# assign some variables\n",
    "x = 4\n",
    "y = 2\n",
    "z = x + y\n",
    "print(z)"
   ]
  },
  {
   "cell_type": "code",
   "execution_count": 2,
   "metadata": {
    "tags": []
   },
   "outputs": [
    {
     "name": "stdout",
     "output_type": "stream",
     "text": [
      "4 2 6\n"
     ]
    }
   ],
   "source": [
    "# use the variables from a previously-run cell\n",
    "print(x, y, z)"
   ]
  },
  {
   "cell_type": "code",
   "execution_count": 3,
   "metadata": {
    "tags": []
   },
   "outputs": [
    {
     "name": "stdout",
     "output_type": "stream",
     "text": [
      "6 123\n"
     ]
    }
   ],
   "source": [
    "# get some information from the user\n",
    "w = input(\"Please enter a word: \")\n",
    "print(z, w)"
   ]
  },
  {
   "cell_type": "code",
   "execution_count": 4,
   "metadata": {
    "tags": []
   },
   "outputs": [
    {
     "name": "stdout",
     "output_type": "stream",
     "text": [
      "123\n",
      "4\n"
     ]
    }
   ],
   "source": [
    "# print one variable per line\n",
    "print(w)\n",
    "print(x)"
   ]
  },
  {
   "cell_type": "code",
   "execution_count": 30,
   "metadata": {
    "tags": []
   },
   "outputs": [
    {
     "name": "stdout",
     "output_type": "stream",
     "text": [
      "zzz\n",
      "\n",
      "zzz\n",
      "4\n"
     ]
    }
   ],
   "source": [
    "# print a newline\n",
    "print(\"zzz\\n\")\n",
    "print(\"zzz\")\n",
    "print(x)"
   ]
  },
  {
   "cell_type": "markdown",
   "metadata": {},
   "source": [
    "### In the following code cell, write code to:\n",
    "Ask the user to enter their desired salary, then calculate a value that is 10% higher\n",
    "than the user's desired salary, and print `\"I'll offer you ` followed by the higher value.\n"
   ]
  },
  {
   "cell_type": "code",
   "execution_count": null,
   "metadata": {},
   "outputs": [],
   "source": []
  },
  {
   "cell_type": "markdown",
   "metadata": {},
   "source": [
    "### In the following markdown cell:\n",
    "Write the sentence, \"My neighbor's name is \" in normal text, followed by the name of a person who is currently sitting near you in bold text."
   ]
  },
  {
   "cell_type": "markdown",
   "metadata": {},
   "source": []
  }
 ],
 "metadata": {
  "kernelspec": {
   "display_name": "Python 3",
   "language": "python",
   "name": "python3"
  },
  "language_info": {
   "codemirror_mode": {
    "name": "ipython",
    "version": 3
   },
   "file_extension": ".py",
   "mimetype": "text/x-python",
   "name": "python",
   "nbconvert_exporter": "python",
   "pygments_lexer": "ipython3",
   "version": "3.8.10"
  }
 },
 "nbformat": 4,
 "nbformat_minor": 4
}
