{
 "cells": [
  {
   "cell_type": "markdown",
   "metadata": {},
   "source": [
    "## JMU WIT workshop: Python Notebooks\n",
    "\n",
    "### Part 1: Hands-On with Jupyter: Exploring and Analyzing a Real Lightning Dataset\n",
    "\n",
    "Jupyter supports a wide range of programming languages, including Python, R, and Julia. With Jupyter Notebooks, you can run code snippets in real-time and see the results immediately, making it a popular choice among data scientists.\n",
    "\n",
    "\n",
    "#### Lightning Dataset\n",
    "The U.S. National Lightning Detection Network (NLDN) is a commercial lightning detection network operated by Vaisala.  A network of antennae are connected to a central processor that records the time, polarity, signal strength, and number of strokes of each cloud-to-ground lightning flash detected over the United States.\n",
    "\n",
    "The dataset we used in this workshop is the cloud-to-ground lightning flashes detected in Salt lake city in July 2020. This dataset is finanly sponored by NSF grant XXXXXX. "
   ]
  },
  {
   "cell_type": "markdown",
   "metadata": {},
   "source": [
    "#### Demo 1: Open the dataset using Python open function, print the labels of each columns"
   ]
  },
  {
   "cell_type": "code",
   "execution_count": 2,
   "metadata": {},
   "outputs": [
    {
     "name": "stdout",
     "output_type": "stream",
     "text": [
      "Day,Month,Year,Hour,Minute,Second,LON,LAT,DISTANCE_KM,SIGNAL,MULTIPLICITY,AXIS,ECCENTRICITY,ELLIPSE,CHISQR\n",
      "\n"
     ]
    }
   ],
   "source": [
    "file = open(\"Salt_Lake_2020.csv\");\n",
    "lines = file.readlines()\n",
    "\n",
    "print(lines[0])"
   ]
  },
  {
   "cell_type": "markdown",
   "metadata": {},
   "source": [
    "#### Demo 2: Print the number of rows "
   ]
  },
  {
   "cell_type": "code",
   "execution_count": 5,
   "metadata": {},
   "outputs": [
    {
     "name": "stdout",
     "output_type": "stream",
     "text": [
      "31409\n"
     ]
    }
   ],
   "source": [
    "print(len(lines))"
   ]
  },
  {
   "cell_type": "markdown",
   "metadata": {},
   "source": [
    "#### Demo 3: Read the column with label of \"LON\" to a Python list\n"
   ]
  },
  {
   "cell_type": "code",
   "execution_count": null,
   "metadata": {},
   "outputs": [
    {
     "name": "stdout",
     "output_type": "stream",
     "text": [
      "31408\n"
     ]
    }
   ],
   "source": [
    "# Start from opening the file\n",
    "\n",
    "file = open(\"Salt_Lake_2020.csv\");\n",
    "# Read all lines but skip the first line with labels\n",
    "lines = file.readlines()[1:]\n",
    "\n",
    "lon = []\n",
    "\n",
    "for line in lines:\n",
    "    lon_str = line.split(',')[5]\n",
    "    lon.append(float(lon_str))\n",
    "\n",
    "# Test it\n",
    "print(len(lon))\n",
    "print(lon)\n"
   ]
  },
  {
   "cell_type": "markdown",
   "metadata": {},
   "source": [
    "#### Exercise 1: Read the column with label of \"LAT\" to a Python list\n"
   ]
  },
  {
   "cell_type": "code",
   "execution_count": null,
   "metadata": {},
   "outputs": [],
   "source": [
    "# add your code for Exercise 1 here"
   ]
  },
  {
   "cell_type": "markdown",
   "metadata": {},
   "source": [
    "#### Exercise 2: Find the center of all the lightnings\n",
    "Hint: Take the average of the longitude and latitude values."
   ]
  },
  {
   "cell_type": "code",
   "execution_count": null,
   "metadata": {},
   "outputs": [
    {
     "name": "stdout",
     "output_type": "stream",
     "text": [
      "29.71953317377725\n"
     ]
    }
   ],
   "source": [
    "# add your code for Exercise 2 here\n"
   ]
  }
 ],
 "metadata": {
  "kernelspec": {
   "display_name": "Python 3",
   "language": "python",
   "name": "python3"
  },
  "language_info": {
   "codemirror_mode": {
    "name": "ipython",
    "version": 3
   },
   "file_extension": ".py",
   "mimetype": "text/x-python",
   "name": "python",
   "nbconvert_exporter": "python",
   "pygments_lexer": "ipython3",
   "version": "3.8.10"
  }
 },
 "nbformat": 4,
 "nbformat_minor": 2
}
